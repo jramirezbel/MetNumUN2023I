{
  "cells": [
    {
      "cell_type": "markdown",
      "metadata": {
        "id": "_7zSSeX21Grj"
      },
      "source": [
        "# Simple iteration for systems of linear equations"
      ]
    },
    {
      "cell_type": "markdown",
      "metadata": {
        "id": "GRz8VJ0N1Grn"
      },
      "source": [
        "First, generate a random diagonally dominant matrix, for testing."
      ]
    },
    {
      "cell_type": "code",
      "execution_count": null,
      "metadata": {
        "collapsed": true,
        "id": "jTVkb-WZ1Gro"
      },
      "outputs": [],
      "source": [
        "import numpy as np\n",
        "rndm = np.random.RandomState(1234)\n",
        "\n",
        "n = 10\n",
        "A = rndm.uniform(size=(n, n)) + np.diagflat([15]*n)\n",
        "b = rndm.uniform(size=n)"
      ]
    },
    {
      "cell_type": "code",
      "source": [
        "A"
      ],
      "metadata": {
        "id": "4mv5q-nMKZwY",
        "outputId": "8f42e0a0-39c1-44d6-8d5e-6d087d674ed8",
        "colab": {
          "base_uri": "https://localhost:8080/"
        }
      },
      "execution_count": null,
      "outputs": [
        {
          "output_type": "execute_result",
          "data": {
            "text/plain": [
              "array([[1.51915195e+01, 6.22108771e-01, 4.37727739e-01, 7.85358584e-01,\n",
              "        7.79975808e-01, 2.72592605e-01, 2.76464255e-01, 8.01872178e-01,\n",
              "        9.58139354e-01, 8.75932635e-01],\n",
              "       [3.57817270e-01, 1.55009951e+01, 6.83462935e-01, 7.12702027e-01,\n",
              "        3.70250755e-01, 5.61196186e-01, 5.03083165e-01, 1.37684496e-02,\n",
              "        7.72826622e-01, 8.82641191e-01],\n",
              "       [3.64885984e-01, 6.15396178e-01, 1.50753812e+01, 3.68824006e-01,\n",
              "        9.33140102e-01, 6.51378143e-01, 3.97202578e-01, 7.88730143e-01,\n",
              "        3.16836122e-01, 5.68098653e-01],\n",
              "       [8.69127390e-01, 4.36173424e-01, 8.02147642e-01, 1.51437668e+01,\n",
              "        7.04260971e-01, 7.04581308e-01, 2.18792106e-01, 9.24867629e-01,\n",
              "        4.42140755e-01, 9.09315959e-01],\n",
              "       [5.98092228e-02, 1.84287084e-01, 4.73552788e-02, 6.74880944e-01,\n",
              "        1.55946248e+01, 5.33310163e-01, 4.33240627e-02, 5.61433080e-01,\n",
              "        3.29668446e-01, 5.02966833e-01],\n",
              "       [1.11894318e-01, 6.07193706e-01, 5.65944643e-01, 6.76406199e-03,\n",
              "        6.17441709e-01, 1.59121229e+01, 7.90524133e-01, 9.92081466e-01,\n",
              "        9.58801762e-01, 7.91964135e-01],\n",
              "       [2.85250960e-01, 6.24916705e-01, 4.78093796e-01, 1.95675179e-01,\n",
              "        3.82317452e-01, 5.38736851e-02, 1.54516484e+01, 9.82004742e-01,\n",
              "        1.23942700e-01, 1.19380898e-01],\n",
              "       [7.38523056e-01, 5.87303633e-01, 4.71632534e-01, 1.07126817e-01,\n",
              "        2.29218565e-01, 8.99965195e-01, 4.16753538e-01, 1.55358517e+01,\n",
              "        6.20851659e-03, 3.00641706e-01],\n",
              "       [4.36893172e-01, 6.12148997e-01, 9.18198075e-01, 6.25736670e-01,\n",
              "        7.05997565e-01, 1.49833716e-01, 7.46063409e-01, 8.31006992e-01,\n",
              "        1.56337258e+01, 4.38309881e-01],\n",
              "       [1.52572775e-01, 5.68409615e-01, 5.28224278e-01, 9.51428764e-01,\n",
              "        4.80359179e-01, 5.02559563e-01, 5.36878193e-01, 8.19202067e-01,\n",
              "        5.71156381e-02, 1.56694217e+01]])"
            ]
          },
          "metadata": {},
          "execution_count": 18
        }
      ]
    },
    {
      "cell_type": "markdown",
      "metadata": {
        "id": "oNGIGBex1Grq"
      },
      "source": [
        "# I.  Jacobi iteration\n",
        "\n",
        "Given\n",
        "\n",
        "$$\n",
        "A x = b\n",
        "$$\n",
        "\n",
        "separate the diagonal part $D$,\n",
        "\n",
        "$$ A = D + (A - D) $$\n",
        "\n",
        "and write\n",
        "\n",
        "$$\n",
        "x = D^{-1} (D - A) x + D^{-1} b\\;.\n",
        "$$\n",
        "\n",
        "Then iterate\n",
        "\n",
        "$$\n",
        "x_{n + 1} = B x_{n} + c\\;,\n",
        "$$\n",
        "\n",
        "where \n",
        "\n",
        "$$\n",
        "B = D^{-1} (A - D) \\qquad \\text{and} \\qquad c = D^{-1} b\n",
        "$$\n"
      ]
    },
    {
      "cell_type": "markdown",
      "metadata": {
        "id": "rB2PHHIK1Grr"
      },
      "source": [
        "Let's construct the matrix and the r.h.s. for the Jacobi iteration"
      ]
    },
    {
      "cell_type": "code",
      "execution_count": null,
      "metadata": {
        "id": "bnk796g61Grr"
      },
      "outputs": [],
      "source": [
        "diag_1d = np.diag(A)\n",
        "\n",
        "B = -A.copy()\n",
        "np.fill_diagonal(B, 0)\n",
        "\n",
        "D = np.diag(diag_1d)\n",
        "invD = np.diag(1./diag_1d)\n",
        "BB = invD @ B \n",
        "c = invD @ b"
      ]
    },
    {
      "cell_type": "code",
      "execution_count": null,
      "metadata": {
        "id": "0NTUyC3i1Grs"
      },
      "outputs": [],
      "source": [
        "# sanity checks\n",
        "from numpy.testing import assert_allclose\n",
        "\n",
        "assert_allclose(-B + D, A)\n",
        "\n",
        "\n",
        "# xx is a \"ground truth\" solution, compute it using a direct method\n",
        "xx = np.linalg.solve(A, b)\n",
        "\n",
        "np.testing.assert_allclose(A@xx, b)\n",
        "np.testing.assert_allclose(D@xx, B@xx + b)\n",
        "np.testing.assert_allclose(xx, BB@xx + c)"
      ]
    },
    {
      "cell_type": "markdown",
      "metadata": {
        "id": "nRaVUE6U1Grt"
      },
      "source": [
        "Check that $\\| B\\| \\leqslant 1$:"
      ]
    },
    {
      "cell_type": "code",
      "execution_count": null,
      "metadata": {
        "id": "zgED2OGu1Gru",
        "outputId": "f22bd1c3-fdbe-4223-8885-34ee7a19d9ef",
        "colab": {
          "base_uri": "https://localhost:8080/"
        }
      },
      "outputs": [
        {
          "output_type": "execute_result",
          "data": {
            "text/plain": [
              "0.31853784252598116"
            ]
          },
          "metadata": {},
          "execution_count": 17
        }
      ],
      "source": [
        "np.linalg.norm(BB)"
      ]
    },
    {
      "cell_type": "markdown",
      "metadata": {
        "id": "rlBcusqg1Grv"
      },
      "source": [
        "### Do the Jacobi iteration"
      ]
    },
    {
      "cell_type": "code",
      "execution_count": null,
      "metadata": {
        "collapsed": true,
        "id": "NK6iwDtm1Grv"
      },
      "outputs": [],
      "source": [
        "n_iter = 50\n",
        "\n",
        "x0 = np.ones(n)\n",
        "x = x0\n",
        "for _ in range(n_iter):\n",
        "    x = BB @ x + c"
      ]
    },
    {
      "cell_type": "code",
      "execution_count": null,
      "metadata": {
        "id": "gsLyio7W1Grw",
        "outputId": "4691b19c-549f-4d5d-9807-53b7688f9619"
      },
      "outputs": [
        {
          "data": {
            "text/plain": [
              "array([  1.11022302e-16,   1.11022302e-16,  -1.11022302e-16,\n",
              "         0.00000000e+00,   0.00000000e+00,   0.00000000e+00,\n",
              "        -1.38777878e-17,   0.00000000e+00,   2.77555756e-17,\n",
              "         1.11022302e-16])"
            ]
          },
          "execution_count": 6,
          "metadata": {},
          "output_type": "execute_result"
        }
      ],
      "source": [
        "# Check the result:\n",
        "\n",
        "A @ x - b"
      ]
    },
    {
      "cell_type": "markdown",
      "metadata": {
        "id": "MXfb9BuT1Grw"
      },
      "source": [
        "### Task I.1\n",
        "\n",
        "Collect the proof-of-concept above into a single function implementing the Jacobi iteration. This function should receive the r.h.s. matrix $A$, the l.h.s. vector `b`, and the number of iterations to perform.\n",
        "\n",
        "\n",
        "The matrix $A$ in the illustration above is strongly diagonally dominant, by construction. \n",
        "What happens if the diagonal matrix elements of $A$ are made smaller? Check the convergence of the Jacobi iteration, and check the value of the norm of $B$.\n",
        "\n",
        "(20% of the total grade)\n"
      ]
    },
    {
      "cell_type": "code",
      "execution_count": 4,
      "metadata": {
        "collapsed": true,
        "id": "5zqTUVVa1Grw"
      },
      "outputs": [],
      "source": [
        "import numpy as np\n",
        "\n",
        "def jacobi_iteration(A, b, num_iterations):\n",
        "    n = len(b)\n",
        "    x = np.zeros(n)  # Initial guess for x\n",
        "    D = np.diag(np.diag(A))  # Diagonal matrix of A\n",
        "\n",
        "    for _ in range(num_iterations):\n",
        "        x_new = (b - np.dot(A, x) + np.dot(D, x)) / np.diag(D)\n",
        "        x = x_new\n",
        "\n",
        "    return x"
      ]
    },
    {
      "cell_type": "code",
      "source": [
        "n = 5  # Size of the matrix\n",
        "A = np.random.rand(n, n)  # Random matrix\n",
        "b = np.random.rand(n)  # Random right-hand side vector\n",
        "num_iterations = 10\n",
        "\n",
        "num_iterations = 10\n",
        "\n",
        "x = jacobi_iteration(A, b, num_iterations)\n",
        "\n",
        "# Calculate the residual vector r\n",
        "r = b - np.dot(A, x)\n",
        "\n",
        "# Calculate the norm of the residual vector\n",
        "residual_norm = np.linalg.norm(r)\n",
        "\n",
        "print(\"Solution x:\", x)\n",
        "print(\"Norm of the residual vector:\", residual_norm)"
      ],
      "metadata": {
        "colab": {
          "base_uri": "https://localhost:8080/"
        },
        "id": "hez5dzZpl5-r",
        "outputId": "47190066-d7e8-4916-f58a-941cbceb0bbb"
      },
      "execution_count": 9,
      "outputs": [
        {
          "output_type": "stream",
          "name": "stdout",
          "text": [
            "Solution x: [-2.27622042e+08 -4.57554907e+07 -5.66636847e+07 -5.64885254e+07\n",
            " -4.83821137e+07]\n",
            "Norm of the residual vector: 618640788.5949675\n"
          ]
        }
      ]
    },
    {
      "cell_type": "markdown",
      "metadata": {
        "id": "xBnguRFT1Grx"
      },
      "source": [
        "# II. Seidel's iteration."
      ]
    },
    {
      "cell_type": "markdown",
      "metadata": {
        "id": "rSbuFdYU1Grx"
      },
      "source": [
        "##### Task II.1\n",
        "\n",
        "Implement the Seidel's iteration. \n",
        "\n",
        "Test it on a random matrix. Study the convergence of iterations, relate to the norm of the iteration matrix.\n",
        "\n",
        "(30% of the total grade)"
      ]
    },
    {
      "cell_type": "code",
      "execution_count": 7,
      "metadata": {
        "collapsed": true,
        "id": "FYygs3Ml1Grx"
      },
      "outputs": [],
      "source": [
        "import numpy as np\n",
        "\n",
        "def seidel_iteration(A, b, num_iterations):\n",
        "    n = len(b)\n",
        "    x = np.zeros(n)  # Initial guess for x\n",
        "\n",
        "    for _ in range(num_iterations):\n",
        "        for i in range(n):\n",
        "            x[i] = (b[i] - np.dot(A[i, :i], x[:i]) - np.dot(A[i, i+1:], x[i+1:])) / A[i, i]\n",
        "\n",
        "    return x"
      ]
    },
    {
      "cell_type": "code",
      "source": [
        "\n",
        "n = 5  # Size of the matrix\n",
        "A = np.random.rand(n, n)  # Random matrix\n",
        "b = np.random.rand(n)  # Random right-hand side vector\n",
        "num_iterations = 10\n",
        "\n",
        "x = seidel_iteration(A, b, num_iterations)\n",
        "\n",
        "# Calculate the residual vector r\n",
        "r = b - np.dot(A, x)\n",
        "\n",
        "# Calculate the norm of the residual vector\n",
        "residual_norm = np.linalg.norm(r)\n",
        "\n",
        "# Calculate the iteration matrix\n",
        "iteration_matrix = np.eye(n) - np.dot(np.linalg.inv(A), A)\n",
        "\n",
        "# Calculate the norm of the iteration matrix\n",
        "iteration_matrix_norm = np.linalg.norm(iteration_matrix)\n",
        "\n",
        "print(\"Solution x:\", x)\n",
        "print(\"Norm of the residual vector:\", residual_norm)\n",
        "print(\"Norm of the iteration matrix:\", iteration_matrix_norm)"
      ],
      "metadata": {
        "colab": {
          "base_uri": "https://localhost:8080/"
        },
        "id": "eXPSa167obyq",
        "outputId": "2d836180-8cb2-4634-e53a-fb118ca88e9f"
      },
      "execution_count": 10,
      "outputs": [
        {
          "output_type": "stream",
          "name": "stdout",
          "text": [
            "Solution x: [-23.16089592  11.12910839  39.52854964 -16.35266047 -34.24835819]\n",
            "Norm of the residual vector: 17.399599975656333\n",
            "Norm of the iteration matrix: 1.7804223964965056e-15\n"
          ]
        }
      ]
    },
    {
      "cell_type": "markdown",
      "metadata": {
        "id": "y3PDxY8W1Gry"
      },
      "source": [
        "# III. Minimum residual scheme"
      ]
    },
    {
      "cell_type": "markdown",
      "metadata": {
        "id": "IbfUD6zy1Gry"
      },
      "source": [
        "### Task III.1\n",
        "\n",
        "Implement the $\\textit{minimum residual}$ scheme: an explicit non-stationary method, where at each step you select the iteration parameter $\\tau_n$ to minimize the residual $\\mathbf{r}_{n+1}$ given $\\mathbf{r}_n$. Test it on a random matrix, study the convergence to the solution, in terms of the norm of the residual and the deviation from the ground truth solution (which you can obtain using a direct method). Study how the iteration parameter $\\tau_n$ changes as iterations progress.\n",
        "\n",
        "(50% of the grade)"
      ]
    },
    {
      "cell_type": "code",
      "execution_count": 12,
      "metadata": {
        "collapsed": true,
        "id": "60_IGETi1Gry"
      },
      "outputs": [],
      "source": [
        "import numpy as np\n",
        "\n",
        "def minres_method(A, b, num_iterations):\n",
        "    n = len(b)\n",
        "    x = np.zeros(n)  # Initial guess for x\n",
        "    r = b - np.dot(A, x)\n",
        "    p = r\n",
        "    alpha = np.dot(r, r)\n",
        "    beta = 0\n",
        "\n",
        "    for _ in range(num_iterations):\n",
        "        Ap = np.dot(A, p)\n",
        "        denom = np.dot(p, Ap)\n",
        "        if denom == 0:\n",
        "            break\n",
        "        tau = alpha / denom\n",
        "        x = x + tau * p\n",
        "        r = r - tau * Ap\n",
        "        alpha_new = np.dot(r, r)\n",
        "        beta = alpha_new / alpha\n",
        "        p = r + beta * p\n",
        "        alpha = alpha_new\n",
        "\n",
        "    return x"
      ]
    },
    {
      "cell_type": "code",
      "source": [
        "n = 5  # Size of the matrix\n",
        "A = np.random.rand(n, n)  # Random matrix\n",
        "b = np.random.rand(n)  # Random right-hand side vector\n",
        "num_iterations = 10\n",
        "\n",
        "# Solve the system using the MINRES method\n",
        "x_minres = minres_method(A, b, num_iterations)\n",
        "\n",
        "# Solve the system using a direct method (ground truth solution)\n",
        "x_direct = np.linalg.solve(A, b)\n",
        "\n",
        "# Calculate the residual vector r\n",
        "r = b - np.dot(A, x_minres)\n",
        "\n",
        "# Calculate the norm of the residual vector\n",
        "residual_norm = np.linalg.norm(r)\n",
        "\n",
        "# Calculate the deviation from the ground truth solution\n",
        "deviation = np.linalg.norm(x_minres - x_direct)\n",
        "\n",
        "print(\"Solution (MINRES method):\", x_minres)\n",
        "print(\"Solution (Direct method):\", x_direct)\n",
        "print(\"Norm of the residual vector:\", residual_norm)\n",
        "print(\"Deviation from the ground truth solution:\", deviation)"
      ],
      "metadata": {
        "colab": {
          "base_uri": "https://localhost:8080/"
        },
        "id": "Q9f4CYoUrGC3",
        "outputId": "fc761450-c69b-4966-e0d2-661e6b35083f"
      },
      "execution_count": 13,
      "outputs": [
        {
          "output_type": "stream",
          "name": "stdout",
          "text": [
            "Solution (MINRES method): [-30.31327174  72.02314746 -30.95465817  71.65114199  25.06578574]\n",
            "Solution (Direct method): [ 1.03447993 -1.20284012  1.41095229 -0.99591155 -0.09396147]\n",
            "Norm of the residual vector: 69.51184903283928\n",
            "Deviation from the ground truth solution: 115.33805442803893\n"
          ]
        }
      ]
    }
  ],
  "metadata": {
    "kernelspec": {
      "display_name": "Python 3",
      "language": "python",
      "name": "python3"
    },
    "language_info": {
      "codemirror_mode": {
        "name": "ipython",
        "version": 3
      },
      "file_extension": ".py",
      "mimetype": "text/x-python",
      "name": "python",
      "nbconvert_exporter": "python",
      "pygments_lexer": "ipython3",
      "version": "3.5.2"
    },
    "colab": {
      "provenance": []
    }
  },
  "nbformat": 4,
  "nbformat_minor": 0
}